{
  "cells": [
    {
      "cell_type": "markdown",
      "metadata": {
        "id": "kZu-7QbP9muh"
      },
      "source": [
        "DSML investigation:\n",
        "\n",
        "You are part of the Suisse Impossible Mission Force, or SIMF for short. You need to uncover a rogue agent that is trying to steal sensitive information.\n",
        "\n",
        "Your mission, should you choose to accept it, is to find that agent before stealing any classified information. Good luck!"
      ]
    },
    {
      "cell_type": "markdown",
      "metadata": {
        "id": "DyL7WNdV9sWV"
      },
      "source": [
        "# Assignement part four\n",
        "#### Identifying the suspects' credit score\n",
        "We received informations that the rogue agent has a good credit score.\n",
        "\n",
        "Our spies at SIMF have managed to collect financial information relating to our suspects as well as a training dataset.\n",
        "\n",
        "Create a Neural Network over the training dataset `df` to identify which of the suspects have a good Credit_Mix\n",
        "\n",
        "\n",
        "## Getting to know our data\n",
        "\n",
        "* Age: a users age\n",
        "* Occupation: a users employment field\n",
        "* Annual_Income: a users annual income\n",
        "* Monthly_Inh_Salary: the calculated salary received by a given user on a monthly basis\n",
        "* Num_Bank_Accounts: the number of bank accounts possessed by a given user\n",
        "* Num_Credit_Cards: the number of credit card given user possesses\n",
        "* Interest_Rate: The interest rate on those cards (if multiple then its the average)\n",
        "* Num_of_Loans: The number of loans of each user\n",
        "* Delay_from_due_date: payment tardiness of user\n",
        "* Num_of_Delayed_Payment: the count of delayed payments\n",
        "* Changed_Credit_Limit: changes made to the credit limit for each user's account\n",
        "* Num_Credit_Inquiries: number of credit inquiries\n",
        "* Credit_Mix: The users credit score\n",
        "* Outsting_Debt: Outstanding debt\n",
        "* Credit_Utilization_Ratio: the percentage of borrowed money over borrowing allowance\n",
        "* Payment_of_Min_Amount: does the user usually pay the minimal amount (categorical)\n",
        "* Total_EMI_per_month: Monthly repayments to be made\n",
        "* Amount_invested_monthly: The amout put in an investment fund by the user on a monthly basis\n",
        "* Payment_Behaviour: the users payment behavior (categorical)\n",
        "* Monthly_Balance: The users end of the month balance\n",
        "* AutoLoan: If the user has an active loan for their vehicule\n",
        "* Credit-BuilderLoan: If the user has a loan to increase their credit score\n",
        "* DebtConsolidationLoan, HomeEquityLoan, MortgageLoan, NotSpecified, PaydayLoan, PersonalLoan, StudentLoan: different types of loans(categorical features)\n",
        "\n"
      ]
    },
    {
      "cell_type": "code",
      "execution_count": 577,
      "metadata": {
        "id": "XHhI95r5-tyD"
      },
      "outputs": [],
      "source": [
        "# Import required packages\n",
        "from sklearn.preprocessing import LabelEncoder, OneHotEncoder\n",
        "import numpy as np\n",
        "import pandas as pd\n",
        "import matplotlib.pyplot as plt\n",
        "from sklearn.model_selection import train_test_split\n",
        "import torch\n",
        "import torch.nn as nn\n",
        "import torch.optim as optim\n",
        "from sklearn.preprocessing import MinMaxScaler\n",
        "from sklearn.metrics import accuracy_score\n",
        "\n",
        "%matplotlib inline"
      ]
    },
    {
      "cell_type": "code",
      "execution_count": 578,
      "metadata": {
        "id": "FXm79UyPF1Bz"
      },
      "outputs": [],
      "source": [
        "df = pd.read_csv(\"https://raw.githubusercontent.com/michalis0/MGT-502-Data-Science-and-Machine-Learning/main/data/train_classification.csv\", index_col='Unnamed: 0').dropna()\n",
        "suspects = pd.read_csv(\"https://raw.githubusercontent.com/michalis0/MGT-502-Data-Science-and-Machine-Learning/main/data/suspects.csv\", index_col='Unnamed: 0').dropna()"
      ]
    },
    {
      "cell_type": "code",
      "execution_count": 579,
      "metadata": {
        "id": "GHi25uhvF1Bz",
        "colab": {
          "base_uri": "https://localhost:8080/",
          "height": 273
        },
        "outputId": "18b5fff1-999f-406a-a66a-7e1ad64c903d"
      },
      "outputs": [
        {
          "output_type": "execute_result",
          "data": {
            "text/plain": [
              "   Age Occupation  Annual_Income  Monthly_Inh_Salary  Num_Bank_Accounts  \\\n",
              "0   23  Scientist       19114.12         1824.843333                  3   \n",
              "1   24  Scientist       19114.12         1824.843333                  3   \n",
              "3   24  Scientist       19114.12         4182.004291                  3   \n",
              "5   28    Teacher       34847.84         3037.986667                  2   \n",
              "8   35   Engineer      143162.64         4182.004291                  1   \n",
              "\n",
              "   Num_Credit_Card  Interest_Rate  Num_of_Loan  Delay_from_due_date  \\\n",
              "0                4              3            4                    3   \n",
              "1                4              3            4                    3   \n",
              "3                4              3            4                    4   \n",
              "5                4              6            1                    3   \n",
              "8                5              8            3                    8   \n",
              "\n",
              "   Num_of_Delayed_Payment  ...  Monthly_Balance  AutoLoan Credit-BuilderLoan  \\\n",
              "0                       7  ...       186.266702         1                  1   \n",
              "1                       9  ...       361.444004         1                  1   \n",
              "3                       5  ...       343.826873         1                  1   \n",
              "5                       3  ...       303.355083         0                  1   \n",
              "8                    1942  ...       854.226027         2                  0   \n",
              "\n",
              "   DebtConsolidationLoan  HomeEquityLoan MortgageLoan  NotSpecified  \\\n",
              "0                      0               1            0             0   \n",
              "1                      0               1            0             0   \n",
              "3                      0               1            0             0   \n",
              "5                      0               0            0             0   \n",
              "8                      0               0            0             1   \n",
              "\n",
              "   PaydayLoan PersonalLoan  StudentLoan  \n",
              "0           0            1            0  \n",
              "1           0            1            0  \n",
              "3           0            1            0  \n",
              "5           0            0            0  \n",
              "8           0            0            0  \n",
              "\n",
              "[5 rows x 29 columns]"
            ],
            "text/html": [
              "\n",
              "  <div id=\"df-3eaf1cc2-2a65-4f36-9ce2-35a18ebe8c43\" class=\"colab-df-container\">\n",
              "    <div>\n",
              "<style scoped>\n",
              "    .dataframe tbody tr th:only-of-type {\n",
              "        vertical-align: middle;\n",
              "    }\n",
              "\n",
              "    .dataframe tbody tr th {\n",
              "        vertical-align: top;\n",
              "    }\n",
              "\n",
              "    .dataframe thead th {\n",
              "        text-align: right;\n",
              "    }\n",
              "</style>\n",
              "<table border=\"1\" class=\"dataframe\">\n",
              "  <thead>\n",
              "    <tr style=\"text-align: right;\">\n",
              "      <th></th>\n",
              "      <th>Age</th>\n",
              "      <th>Occupation</th>\n",
              "      <th>Annual_Income</th>\n",
              "      <th>Monthly_Inh_Salary</th>\n",
              "      <th>Num_Bank_Accounts</th>\n",
              "      <th>Num_Credit_Card</th>\n",
              "      <th>Interest_Rate</th>\n",
              "      <th>Num_of_Loan</th>\n",
              "      <th>Delay_from_due_date</th>\n",
              "      <th>Num_of_Delayed_Payment</th>\n",
              "      <th>...</th>\n",
              "      <th>Monthly_Balance</th>\n",
              "      <th>AutoLoan</th>\n",
              "      <th>Credit-BuilderLoan</th>\n",
              "      <th>DebtConsolidationLoan</th>\n",
              "      <th>HomeEquityLoan</th>\n",
              "      <th>MortgageLoan</th>\n",
              "      <th>NotSpecified</th>\n",
              "      <th>PaydayLoan</th>\n",
              "      <th>PersonalLoan</th>\n",
              "      <th>StudentLoan</th>\n",
              "    </tr>\n",
              "  </thead>\n",
              "  <tbody>\n",
              "    <tr>\n",
              "      <th>0</th>\n",
              "      <td>23</td>\n",
              "      <td>Scientist</td>\n",
              "      <td>19114.12</td>\n",
              "      <td>1824.843333</td>\n",
              "      <td>3</td>\n",
              "      <td>4</td>\n",
              "      <td>3</td>\n",
              "      <td>4</td>\n",
              "      <td>3</td>\n",
              "      <td>7</td>\n",
              "      <td>...</td>\n",
              "      <td>186.266702</td>\n",
              "      <td>1</td>\n",
              "      <td>1</td>\n",
              "      <td>0</td>\n",
              "      <td>1</td>\n",
              "      <td>0</td>\n",
              "      <td>0</td>\n",
              "      <td>0</td>\n",
              "      <td>1</td>\n",
              "      <td>0</td>\n",
              "    </tr>\n",
              "    <tr>\n",
              "      <th>1</th>\n",
              "      <td>24</td>\n",
              "      <td>Scientist</td>\n",
              "      <td>19114.12</td>\n",
              "      <td>1824.843333</td>\n",
              "      <td>3</td>\n",
              "      <td>4</td>\n",
              "      <td>3</td>\n",
              "      <td>4</td>\n",
              "      <td>3</td>\n",
              "      <td>9</td>\n",
              "      <td>...</td>\n",
              "      <td>361.444004</td>\n",
              "      <td>1</td>\n",
              "      <td>1</td>\n",
              "      <td>0</td>\n",
              "      <td>1</td>\n",
              "      <td>0</td>\n",
              "      <td>0</td>\n",
              "      <td>0</td>\n",
              "      <td>1</td>\n",
              "      <td>0</td>\n",
              "    </tr>\n",
              "    <tr>\n",
              "      <th>3</th>\n",
              "      <td>24</td>\n",
              "      <td>Scientist</td>\n",
              "      <td>19114.12</td>\n",
              "      <td>4182.004291</td>\n",
              "      <td>3</td>\n",
              "      <td>4</td>\n",
              "      <td>3</td>\n",
              "      <td>4</td>\n",
              "      <td>4</td>\n",
              "      <td>5</td>\n",
              "      <td>...</td>\n",
              "      <td>343.826873</td>\n",
              "      <td>1</td>\n",
              "      <td>1</td>\n",
              "      <td>0</td>\n",
              "      <td>1</td>\n",
              "      <td>0</td>\n",
              "      <td>0</td>\n",
              "      <td>0</td>\n",
              "      <td>1</td>\n",
              "      <td>0</td>\n",
              "    </tr>\n",
              "    <tr>\n",
              "      <th>5</th>\n",
              "      <td>28</td>\n",
              "      <td>Teacher</td>\n",
              "      <td>34847.84</td>\n",
              "      <td>3037.986667</td>\n",
              "      <td>2</td>\n",
              "      <td>4</td>\n",
              "      <td>6</td>\n",
              "      <td>1</td>\n",
              "      <td>3</td>\n",
              "      <td>3</td>\n",
              "      <td>...</td>\n",
              "      <td>303.355083</td>\n",
              "      <td>0</td>\n",
              "      <td>1</td>\n",
              "      <td>0</td>\n",
              "      <td>0</td>\n",
              "      <td>0</td>\n",
              "      <td>0</td>\n",
              "      <td>0</td>\n",
              "      <td>0</td>\n",
              "      <td>0</td>\n",
              "    </tr>\n",
              "    <tr>\n",
              "      <th>8</th>\n",
              "      <td>35</td>\n",
              "      <td>Engineer</td>\n",
              "      <td>143162.64</td>\n",
              "      <td>4182.004291</td>\n",
              "      <td>1</td>\n",
              "      <td>5</td>\n",
              "      <td>8</td>\n",
              "      <td>3</td>\n",
              "      <td>8</td>\n",
              "      <td>1942</td>\n",
              "      <td>...</td>\n",
              "      <td>854.226027</td>\n",
              "      <td>2</td>\n",
              "      <td>0</td>\n",
              "      <td>0</td>\n",
              "      <td>0</td>\n",
              "      <td>0</td>\n",
              "      <td>1</td>\n",
              "      <td>0</td>\n",
              "      <td>0</td>\n",
              "      <td>0</td>\n",
              "    </tr>\n",
              "  </tbody>\n",
              "</table>\n",
              "<p>5 rows × 29 columns</p>\n",
              "</div>\n",
              "    <div class=\"colab-df-buttons\">\n",
              "\n",
              "  <div class=\"colab-df-container\">\n",
              "    <button class=\"colab-df-convert\" onclick=\"convertToInteractive('df-3eaf1cc2-2a65-4f36-9ce2-35a18ebe8c43')\"\n",
              "            title=\"Convert this dataframe to an interactive table.\"\n",
              "            style=\"display:none;\">\n",
              "\n",
              "  <svg xmlns=\"http://www.w3.org/2000/svg\" height=\"24px\" viewBox=\"0 -960 960 960\">\n",
              "    <path d=\"M120-120v-720h720v720H120Zm60-500h600v-160H180v160Zm220 220h160v-160H400v160Zm0 220h160v-160H400v160ZM180-400h160v-160H180v160Zm440 0h160v-160H620v160ZM180-180h160v-160H180v160Zm440 0h160v-160H620v160Z\"/>\n",
              "  </svg>\n",
              "    </button>\n",
              "\n",
              "  <style>\n",
              "    .colab-df-container {\n",
              "      display:flex;\n",
              "      gap: 12px;\n",
              "    }\n",
              "\n",
              "    .colab-df-convert {\n",
              "      background-color: #E8F0FE;\n",
              "      border: none;\n",
              "      border-radius: 50%;\n",
              "      cursor: pointer;\n",
              "      display: none;\n",
              "      fill: #1967D2;\n",
              "      height: 32px;\n",
              "      padding: 0 0 0 0;\n",
              "      width: 32px;\n",
              "    }\n",
              "\n",
              "    .colab-df-convert:hover {\n",
              "      background-color: #E2EBFA;\n",
              "      box-shadow: 0px 1px 2px rgba(60, 64, 67, 0.3), 0px 1px 3px 1px rgba(60, 64, 67, 0.15);\n",
              "      fill: #174EA6;\n",
              "    }\n",
              "\n",
              "    .colab-df-buttons div {\n",
              "      margin-bottom: 4px;\n",
              "    }\n",
              "\n",
              "    [theme=dark] .colab-df-convert {\n",
              "      background-color: #3B4455;\n",
              "      fill: #D2E3FC;\n",
              "    }\n",
              "\n",
              "    [theme=dark] .colab-df-convert:hover {\n",
              "      background-color: #434B5C;\n",
              "      box-shadow: 0px 1px 3px 1px rgba(0, 0, 0, 0.15);\n",
              "      filter: drop-shadow(0px 1px 2px rgba(0, 0, 0, 0.3));\n",
              "      fill: #FFFFFF;\n",
              "    }\n",
              "  </style>\n",
              "\n",
              "    <script>\n",
              "      const buttonEl =\n",
              "        document.querySelector('#df-3eaf1cc2-2a65-4f36-9ce2-35a18ebe8c43 button.colab-df-convert');\n",
              "      buttonEl.style.display =\n",
              "        google.colab.kernel.accessAllowed ? 'block' : 'none';\n",
              "\n",
              "      async function convertToInteractive(key) {\n",
              "        const element = document.querySelector('#df-3eaf1cc2-2a65-4f36-9ce2-35a18ebe8c43');\n",
              "        const dataTable =\n",
              "          await google.colab.kernel.invokeFunction('convertToInteractive',\n",
              "                                                    [key], {});\n",
              "        if (!dataTable) return;\n",
              "\n",
              "        const docLinkHtml = 'Like what you see? Visit the ' +\n",
              "          '<a target=\"_blank\" href=https://colab.research.google.com/notebooks/data_table.ipynb>data table notebook</a>'\n",
              "          + ' to learn more about interactive tables.';\n",
              "        element.innerHTML = '';\n",
              "        dataTable['output_type'] = 'display_data';\n",
              "        await google.colab.output.renderOutput(dataTable, element);\n",
              "        const docLink = document.createElement('div');\n",
              "        docLink.innerHTML = docLinkHtml;\n",
              "        element.appendChild(docLink);\n",
              "      }\n",
              "    </script>\n",
              "  </div>\n",
              "\n",
              "\n",
              "<div id=\"df-6ac38cd9-57d7-441c-89e6-a04f9254fff9\">\n",
              "  <button class=\"colab-df-quickchart\" onclick=\"quickchart('df-6ac38cd9-57d7-441c-89e6-a04f9254fff9')\"\n",
              "            title=\"Suggest charts\"\n",
              "            style=\"display:none;\">\n",
              "\n",
              "<svg xmlns=\"http://www.w3.org/2000/svg\" height=\"24px\"viewBox=\"0 0 24 24\"\n",
              "     width=\"24px\">\n",
              "    <g>\n",
              "        <path d=\"M19 3H5c-1.1 0-2 .9-2 2v14c0 1.1.9 2 2 2h14c1.1 0 2-.9 2-2V5c0-1.1-.9-2-2-2zM9 17H7v-7h2v7zm4 0h-2V7h2v10zm4 0h-2v-4h2v4z\"/>\n",
              "    </g>\n",
              "</svg>\n",
              "  </button>\n",
              "\n",
              "<style>\n",
              "  .colab-df-quickchart {\n",
              "      --bg-color: #E8F0FE;\n",
              "      --fill-color: #1967D2;\n",
              "      --hover-bg-color: #E2EBFA;\n",
              "      --hover-fill-color: #174EA6;\n",
              "      --disabled-fill-color: #AAA;\n",
              "      --disabled-bg-color: #DDD;\n",
              "  }\n",
              "\n",
              "  [theme=dark] .colab-df-quickchart {\n",
              "      --bg-color: #3B4455;\n",
              "      --fill-color: #D2E3FC;\n",
              "      --hover-bg-color: #434B5C;\n",
              "      --hover-fill-color: #FFFFFF;\n",
              "      --disabled-bg-color: #3B4455;\n",
              "      --disabled-fill-color: #666;\n",
              "  }\n",
              "\n",
              "  .colab-df-quickchart {\n",
              "    background-color: var(--bg-color);\n",
              "    border: none;\n",
              "    border-radius: 50%;\n",
              "    cursor: pointer;\n",
              "    display: none;\n",
              "    fill: var(--fill-color);\n",
              "    height: 32px;\n",
              "    padding: 0;\n",
              "    width: 32px;\n",
              "  }\n",
              "\n",
              "  .colab-df-quickchart:hover {\n",
              "    background-color: var(--hover-bg-color);\n",
              "    box-shadow: 0 1px 2px rgba(60, 64, 67, 0.3), 0 1px 3px 1px rgba(60, 64, 67, 0.15);\n",
              "    fill: var(--button-hover-fill-color);\n",
              "  }\n",
              "\n",
              "  .colab-df-quickchart-complete:disabled,\n",
              "  .colab-df-quickchart-complete:disabled:hover {\n",
              "    background-color: var(--disabled-bg-color);\n",
              "    fill: var(--disabled-fill-color);\n",
              "    box-shadow: none;\n",
              "  }\n",
              "\n",
              "  .colab-df-spinner {\n",
              "    border: 2px solid var(--fill-color);\n",
              "    border-color: transparent;\n",
              "    border-bottom-color: var(--fill-color);\n",
              "    animation:\n",
              "      spin 1s steps(1) infinite;\n",
              "  }\n",
              "\n",
              "  @keyframes spin {\n",
              "    0% {\n",
              "      border-color: transparent;\n",
              "      border-bottom-color: var(--fill-color);\n",
              "      border-left-color: var(--fill-color);\n",
              "    }\n",
              "    20% {\n",
              "      border-color: transparent;\n",
              "      border-left-color: var(--fill-color);\n",
              "      border-top-color: var(--fill-color);\n",
              "    }\n",
              "    30% {\n",
              "      border-color: transparent;\n",
              "      border-left-color: var(--fill-color);\n",
              "      border-top-color: var(--fill-color);\n",
              "      border-right-color: var(--fill-color);\n",
              "    }\n",
              "    40% {\n",
              "      border-color: transparent;\n",
              "      border-right-color: var(--fill-color);\n",
              "      border-top-color: var(--fill-color);\n",
              "    }\n",
              "    60% {\n",
              "      border-color: transparent;\n",
              "      border-right-color: var(--fill-color);\n",
              "    }\n",
              "    80% {\n",
              "      border-color: transparent;\n",
              "      border-right-color: var(--fill-color);\n",
              "      border-bottom-color: var(--fill-color);\n",
              "    }\n",
              "    90% {\n",
              "      border-color: transparent;\n",
              "      border-bottom-color: var(--fill-color);\n",
              "    }\n",
              "  }\n",
              "</style>\n",
              "\n",
              "  <script>\n",
              "    async function quickchart(key) {\n",
              "      const quickchartButtonEl =\n",
              "        document.querySelector('#' + key + ' button');\n",
              "      quickchartButtonEl.disabled = true;  // To prevent multiple clicks.\n",
              "      quickchartButtonEl.classList.add('colab-df-spinner');\n",
              "      try {\n",
              "        const charts = await google.colab.kernel.invokeFunction(\n",
              "            'suggestCharts', [key], {});\n",
              "      } catch (error) {\n",
              "        console.error('Error during call to suggestCharts:', error);\n",
              "      }\n",
              "      quickchartButtonEl.classList.remove('colab-df-spinner');\n",
              "      quickchartButtonEl.classList.add('colab-df-quickchart-complete');\n",
              "    }\n",
              "    (() => {\n",
              "      let quickchartButtonEl =\n",
              "        document.querySelector('#df-6ac38cd9-57d7-441c-89e6-a04f9254fff9 button');\n",
              "      quickchartButtonEl.style.display =\n",
              "        google.colab.kernel.accessAllowed ? 'block' : 'none';\n",
              "    })();\n",
              "  </script>\n",
              "</div>\n",
              "    </div>\n",
              "  </div>\n"
            ],
            "application/vnd.google.colaboratory.intrinsic+json": {
              "type": "dataframe",
              "variable_name": "df"
            }
          },
          "metadata": {},
          "execution_count": 579
        }
      ],
      "source": [
        "df.head()"
      ]
    },
    {
      "cell_type": "code",
      "execution_count": 580,
      "metadata": {
        "id": "lpZT59dqF1B0",
        "colab": {
          "base_uri": "https://localhost:8080/"
        },
        "outputId": "25368103-535b-4ce5-a768-e24cfc63b576"
      },
      "outputs": [
        {
          "output_type": "execute_result",
          "data": {
            "text/plain": [
              "array(['Good', 'Standard', 'Bad'], dtype=object)"
            ]
          },
          "metadata": {},
          "execution_count": 580
        }
      ],
      "source": [
        "df[\"Credit_Mix\"].unique()"
      ]
    },
    {
      "cell_type": "markdown",
      "metadata": {
        "id": "LZENObtyefVk"
      },
      "source": [
        "# 1. Preparing the data\n",
        "## 1.1 Data cleaning\n",
        " Perform One-Hot Encoding over the \"Occupation\" feature.\n",
        "\n",
        " Then, perform Label Encoding over \"Payment_of_Min_Amount\" and \"Payment_Behaviour\".\n",
        "\n",
        " After performing the one-hot and label encoding, add the encoded features to the data frame and remove the corresponding categorical features."
      ]
    },
    {
      "cell_type": "code",
      "execution_count": 581,
      "metadata": {
        "id": "JGVrLNJTefVk"
      },
      "outputs": [],
      "source": [
        "# One-hot encoding:\n",
        "df = pd.concat([df, pd.get_dummies(df['Occupation'], prefix='Occupation')], axis=1)\n",
        "df=df.drop(['Occupation'], axis=1)\n",
        "\n",
        "#Label encoding\n",
        "le_min_amount = LabelEncoder()\n",
        "le_behaviour = LabelEncoder()\n",
        "\n",
        "# Encoding columns\n",
        "df['Payment_of_Min_Amount'] = le_min_amount.fit_transform(df['Payment_of_Min_Amount'])\n",
        "df['Payment_Behaviour'] = le_behaviour.fit_transform(df['Payment_Behaviour'])"
      ]
    },
    {
      "cell_type": "code",
      "source": [
        "df.columns"
      ],
      "metadata": {
        "colab": {
          "base_uri": "https://localhost:8080/"
        },
        "id": "yxaOiMEEGrd9",
        "outputId": "cc015e3e-19cd-4804-e884-484caa48bfd9"
      },
      "execution_count": 582,
      "outputs": [
        {
          "output_type": "execute_result",
          "data": {
            "text/plain": [
              "Index(['Age', 'Annual_Income', 'Monthly_Inh_Salary', 'Num_Bank_Accounts',\n",
              "       'Num_Credit_Card', 'Interest_Rate', 'Num_of_Loan',\n",
              "       'Delay_from_due_date', 'Num_of_Delayed_Payment', 'Changed_Credit_Limit',\n",
              "       'Num_Credit_Inquiries', 'Credit_Mix', 'Outsting_Debt',\n",
              "       'Credit_Utilization_Ratio', 'Payment_of_Min_Amount',\n",
              "       'Total_EMI_per_month', 'Amount_invested_monthly', 'Payment_Behaviour',\n",
              "       'Monthly_Balance', 'AutoLoan', 'Credit-BuilderLoan',\n",
              "       'DebtConsolidationLoan', 'HomeEquityLoan', 'MortgageLoan',\n",
              "       'NotSpecified', 'PaydayLoan', 'PersonalLoan', 'StudentLoan',\n",
              "       'Occupation_Accountant', 'Occupation_Architect', 'Occupation_Developer',\n",
              "       'Occupation_Doctor', 'Occupation_Engineer', 'Occupation_Entrepreneur',\n",
              "       'Occupation_Journalist', 'Occupation_Lawyer', 'Occupation_Manager',\n",
              "       'Occupation_Mechanic', 'Occupation_MediaManager', 'Occupation_Musician',\n",
              "       'Occupation_Scientist', 'Occupation_Teacher', 'Occupation_Writer'],\n",
              "      dtype='object')"
            ]
          },
          "metadata": {},
          "execution_count": 582
        }
      ]
    },
    {
      "cell_type": "code",
      "source": [
        "suspects.columns"
      ],
      "metadata": {
        "colab": {
          "base_uri": "https://localhost:8080/"
        },
        "id": "1zAZb157NB9J",
        "outputId": "ef150e95-283d-4efc-c4da-7e9cad5dcd3a"
      },
      "execution_count": 583,
      "outputs": [
        {
          "output_type": "execute_result",
          "data": {
            "text/plain": [
              "Index(['Age', 'Annual_Income', 'Monthly_Inh_Salary', 'Num_Bank_Accounts',\n",
              "       'Num_Credit_Card', 'Interest_Rate', 'Num_of_Loan',\n",
              "       'Delay_from_due_date', 'Num_of_Delayed_Payment', 'Changed_Credit_Limit',\n",
              "       'Num_Credit_Inquiries', 'Outsting_Debt', 'Credit_Utilization_Ratio',\n",
              "       'Payment_of_Min_Amount', 'Total_EMI_per_month',\n",
              "       'Amount_invested_monthly', 'Payment_Behaviour', 'Monthly_Balance',\n",
              "       'AutoLoan', 'Credit-BuilderLoan', 'DebtConsolidationLoan',\n",
              "       'HomeEquityLoan', 'MortgageLoan', 'NotSpecified', 'PaydayLoan',\n",
              "       'PersonalLoan', 'StudentLoan', 'Occupation_Accountant',\n",
              "       'Occupation_Architect', 'Occupation_Developer', 'Occupation_Doctor',\n",
              "       'Occupation_Engineer', 'Occupation_Entrepreneur',\n",
              "       'Occupation_Journalist', 'Occupation_Lawyer', 'Occupation_Manager',\n",
              "       'Occupation_Mechanic', 'Occupation_MediaManager', 'Occupation_Musician',\n",
              "       'Occupation_Scientist', 'Occupation_Teacher', 'Occupation_Writer',\n",
              "       'userID'],\n",
              "      dtype='object')"
            ]
          },
          "metadata": {},
          "execution_count": 583
        }
      ]
    },
    {
      "cell_type": "markdown",
      "metadata": {
        "id": "nfPnhUxAefVl"
      },
      "source": [
        "## 1.2 Dataset splitting and rescaling\n",
        "\n",
        "a) Split the dataset in two, first X with your independent features and then y with the dependent feature **CreditMix**.\n",
        "\n",
        "b) Split X and y into training and test sets. The training set should contain 80% of the observations, and the test set should contain the remaining 20%. Set random state equal to 42.\n",
        "\n",
        "c) Then perform :\n",
        "* Label Encoding over the **CreditMix** feature.\n",
        "* A MinMaxScaller over all the independent features."
      ]
    },
    {
      "cell_type": "code",
      "execution_count": 584,
      "metadata": {
        "id": "J-mentarefVm"
      },
      "outputs": [],
      "source": [
        "# Split the dataset\n",
        "X=df[['Age', 'Annual_Income', 'Monthly_Inh_Salary', 'Num_Bank_Accounts',\n",
        "       'Num_Credit_Card', 'Interest_Rate', 'Num_of_Loan',\n",
        "       'Delay_from_due_date', 'Num_of_Delayed_Payment', 'Changed_Credit_Limit',\n",
        "       'Num_Credit_Inquiries', 'Outsting_Debt',\n",
        "       'Credit_Utilization_Ratio', 'Payment_of_Min_Amount',\n",
        "       'Total_EMI_per_month', 'Amount_invested_monthly', 'Payment_Behaviour',\n",
        "       'Monthly_Balance', 'AutoLoan', 'Credit-BuilderLoan',\n",
        "       'DebtConsolidationLoan', 'HomeEquityLoan', 'MortgageLoan',\n",
        "       'NotSpecified', 'PaydayLoan', 'PersonalLoan', 'StudentLoan',\n",
        "       'Occupation_Accountant', 'Occupation_Architect', 'Occupation_Developer',\n",
        "       'Occupation_Doctor', 'Occupation_Engineer', 'Occupation_Entrepreneur',\n",
        "       'Occupation_Journalist', 'Occupation_Lawyer', 'Occupation_Manager',\n",
        "       'Occupation_Mechanic', 'Occupation_MediaManager', 'Occupation_Musician',\n",
        "       'Occupation_Scientist', 'Occupation_Teacher', 'Occupation_Writer']]\n",
        "y = df['Credit_Mix'].copy()\n",
        "\n",
        "#Label encoding over creditmix\n",
        "le_creditmix = LabelEncoder()\n",
        "y = le_creditmix.fit_transform(y)\n",
        "y = pd.DataFrame(y, columns=['Credit_Mix'])\n",
        "\n",
        "# Split into training and test\n",
        "X_train, X_test, y_train, y_test = train_test_split(X, y, test_size=0.2, random_state= 42)\n",
        "\n",
        "#MinMaxscaler\n",
        "scaler=MinMaxScaler()\n",
        "X_train_scaled=scaler.fit_transform(X_train)\n",
        "X_test_scaled=scaler.fit_transform(X_test)\n",
        "X_scaled=scaler.fit_transform(X)\n",
        "suspects_scaled=scaler.fit_transform(suspects)\n",
        "y_scaled=scaler.fit_transform(y)\n",
        "\n"
      ]
    },
    {
      "cell_type": "markdown",
      "metadata": {
        "id": "vmjXsvhKF1B3"
      },
      "source": [
        "### 1.2.2 Final touches\n",
        "Convert your datasets to `Torch tensors` of type `torch.float` for X and `torch.long` for y."
      ]
    },
    {
      "cell_type": "code",
      "execution_count": 585,
      "metadata": {
        "id": "2KS_U8stefVo"
      },
      "outputs": [],
      "source": [
        "#Your code here:\n",
        "X_train_scaled_tensor = torch.tensor(X_train_scaled, dtype=torch.float)\n",
        "X_test_scaled_tensor = torch.tensor(X_test_scaled, dtype=torch.float)\n",
        "X_scaled_tensor = torch.tensor(X_scaled, dtype=torch.float)\n",
        "#X_tensor = torch.tensor(X.values, dtype=torch.float)\n",
        "y_tensor = torch.tensor(y.values, dtype=torch.float)\n",
        "y_scaled_tensor = torch.tensor(y_scaled, dtype=torch.float)\n",
        "y_test_tensor = torch.tensor(y_test.values, dtype=torch.float)\n",
        "y_train_tensor = torch.tensor(y_train.values, dtype=torch.float)\n",
        "suspects_scaled_tensor = torch.tensor(suspects_scaled, dtype=torch.float)\n"
      ]
    },
    {
      "cell_type": "code",
      "source": [
        "suspects2 = suspects.drop(columns=['userID'])\n",
        "suspects2_scaled=scaler.fit_transform(suspects2)\n",
        "suspects2_scaled_tensor = torch.tensor(suspects2_scaled, dtype=torch.float)\n",
        "\n"
      ],
      "metadata": {
        "id": "LCWMRunD7zAG"
      },
      "execution_count": 586,
      "outputs": []
    },
    {
      "cell_type": "code",
      "source": [
        "print(X_train_scaled_tensor.size(), y_train_tensor.size())"
      ],
      "metadata": {
        "colab": {
          "base_uri": "https://localhost:8080/"
        },
        "id": "c4He9vLWNJG-",
        "outputId": "9c2b3eef-ec1d-43e5-ff90-cd67007f80e6"
      },
      "execution_count": 587,
      "outputs": [
        {
          "output_type": "stream",
          "name": "stdout",
          "text": [
            "torch.Size([23378, 42]) torch.Size([23378, 1])\n"
          ]
        }
      ]
    },
    {
      "cell_type": "markdown",
      "metadata": {
        "id": "NpJNiQADF1B3"
      },
      "source": [
        "# 2 Model preparation:\n",
        "\n",
        "## 2.1 Define a Neural network model and instantiate it.\n",
        "Set the following parameters:\n",
        "* `hidden layer` : 1 with 150 nurons;\n",
        "* `activation function` : ReLU\n",
        "* `criterion` : [CrossEntropyLoss](https://pytorch.org/docs/stable/generated/torch.nn.CrossEntropyLoss.html)"
      ]
    },
    {
      "cell_type": "code",
      "source": [
        "# Define the neural network class\n",
        "class Net(nn.Module):\n",
        "    def __init__(self, D_in, H1, D_out):\n",
        "        super(Net, self).__init__()\n",
        "        self.linear1 = nn.Linear(D_in, H1)  # Linear transformation for the hidden layer\n",
        "        self.linear2 = nn.Linear(H1, D_out)  # Linear transformation for the output layer\n",
        "        self.activation = nn.ReLU()  # Activation function for the hidden layer\n",
        "\n",
        "    def forward(self, x):\n",
        "        y_pred = self.activation(self.linear1(x))   # Hidden layer: linear transformation + ReLU\n",
        "        y_pred = self.linear2(y_pred)               # Output layer: linear transformation\n",
        "        return y_pred\n",
        "\n",
        "D_in = X_train_scaled_tensor.shape[1]  # Input dimension (number of features)\n",
        "H1 = 150  # Number of neurons in the hidden layer\n",
        "D_out = len(torch.unique(y_train_tensor))  # Output dimension (number of classes)\n",
        "\n",
        "model = Net(D_in, H1, D_out)\n",
        "\n",
        "# Initialize the CrossEntropyLoss criterion\n",
        "criterion = nn.CrossEntropyLoss()\n",
        "\n",
        "model"
      ],
      "metadata": {
        "id": "x1XfkiWtQ9C2",
        "colab": {
          "base_uri": "https://localhost:8080/"
        },
        "outputId": "97531579-4a28-4789-97a0-72f19a575007"
      },
      "execution_count": 588,
      "outputs": [
        {
          "output_type": "execute_result",
          "data": {
            "text/plain": [
              "Net(\n",
              "  (linear1): Linear(in_features=42, out_features=150, bias=True)\n",
              "  (linear2): Linear(in_features=150, out_features=3, bias=True)\n",
              "  (activation): ReLU()\n",
              ")"
            ]
          },
          "metadata": {},
          "execution_count": 588
        }
      ]
    },
    {
      "cell_type": "markdown",
      "metadata": {
        "id": "0bnfvHbEF1B4"
      },
      "source": [
        "## 2.2 Finding the best model:\n",
        "Identify, amongst the following options the best parameters for your model:\n",
        "\n",
        "* `criterion` : [CrossEntropyLoss](https://pytorch.org/docs/stable/generated/torch.nn.CrossEntropyLoss.html)\n",
        "* `iterations` : 150, 250, 500, 1000\n",
        "* `learning rate` : 0.00005, 0.001, 1.049, 12.031\n",
        "\n",
        "Set `random seed` as torch.manual_seed(42).\n",
        "\n",
        "\n",
        "_Hint: restart your runtime between each execution to ensure that previous neural networks dont interfere with your current one_\n",
        "\n",
        "_You can evaluate your model based on it's accuracy over the test set_"
      ]
    },
    {
      "cell_type": "code",
      "source": [
        "if y_train_tensor.dim() > 1:\n",
        "    y_train_tensor = torch.argmax(y_train_tensor, dim=1)\n",
        "\n",
        "torch.manual_seed(42)\n",
        "\n",
        "# Define your Net class here as before\n",
        "\n",
        "# Initialization parameters\n",
        "iterations_options = [150, 250, 500, 1000]\n",
        "learning_rate_options = [0.00005]\n",
        "best_accuracy = 0\n",
        "best_params = {}\n",
        "\n",
        "for iterations in iterations_options:\n",
        "    for lr in learning_rate_options:\n",
        "        # Reinitialize your model and optimizer\n",
        "        model = Net(D_in, 150, D_out)\n",
        "        criterion = nn.CrossEntropyLoss()\n",
        "        optimizer = optim.SGD(model.parameters(), lr=lr)\n",
        "\n",
        "        for _ in range(iterations):\n",
        "            optimizer.zero_grad()\n",
        "            outputs = model(X_train_scaled_tensor)  # Use your entire training dataset\n",
        "            loss = criterion(outputs, y_train_tensor)\n",
        "            loss.backward()\n",
        "            optimizer.step()\n",
        "\n",
        "        # Calculate accuracy\n",
        "        with torch.no_grad():\n",
        "            outputs = model(X_test_scaled_tensor)\n",
        "            _, predicted_indices = torch.max(outputs, 1)\n",
        "            prediction = predicted_indices.cpu().numpy()\n",
        "            correct = y_test_tensor.cpu().numpy()\n",
        "            accuracy = accuracy_score(correct, prediction)\n",
        "\n",
        "        print(f'Iterations: {iterations}, Learning Rate: {lr}, Accuracy: {accuracy:.4f}')\n",
        "\n",
        "        if accuracy > best_accuracy:\n",
        "            best_accuracy = accuracy\n",
        "            best_params = {'iterations': iterations, 'learning rate': lr}\n",
        "\n",
        "print(f'Best Parameters: {best_params}, Best Accuracy: {best_accuracy:.2f}%')"
      ],
      "metadata": {
        "id": "6YlMyENrG3mi",
        "colab": {
          "base_uri": "https://localhost:8080/"
        },
        "outputId": "4fe321bc-ddaf-4349-8b66-9296a78bef39"
      },
      "execution_count": 589,
      "outputs": [
        {
          "output_type": "stream",
          "name": "stdout",
          "text": [
            "Iterations: 150, Learning Rate: 5e-05, Accuracy: 0.2306\n",
            "Iterations: 250, Learning Rate: 5e-05, Accuracy: 0.3610\n",
            "Iterations: 500, Learning Rate: 5e-05, Accuracy: 0.2322\n",
            "Iterations: 1000, Learning Rate: 5e-05, Accuracy: 0.2296\n",
            "Best Parameters: {'iterations': 250, 'learning rate': 5e-05}, Best Accuracy: 0.36%\n"
          ]
        }
      ]
    },
    {
      "cell_type": "code",
      "source": [
        "if y_train_tensor.dim() > 1:\n",
        "    y_train_tensor = torch.argmax(y_train_tensor, dim=1)\n",
        "\n",
        "torch.manual_seed(42)\n",
        "\n",
        "# Initialization parameters\n",
        "iterations_options = [150, 250, 500, 1000]\n",
        "learning_rate_options = [0.001]\n",
        "best_accuracy = 0\n",
        "best_params = {}\n",
        "\n",
        "for iterations in iterations_options:\n",
        "    for lr in learning_rate_options:\n",
        "        # Reinitialize your model and optimizer\n",
        "        model = Net(D_in, 150, D_out)\n",
        "        criterion = nn.CrossEntropyLoss()\n",
        "        optimizer = optim.SGD(model.parameters(), lr=lr)\n",
        "\n",
        "        for _ in range(iterations):\n",
        "            optimizer.zero_grad()\n",
        "            outputs = model(X_train_scaled_tensor)  # Use your entire training dataset\n",
        "            loss = criterion(outputs, y_train_tensor)\n",
        "            loss.backward()\n",
        "            optimizer.step()\n",
        "\n",
        "        # Calculate accuracy\n",
        "        with torch.no_grad():\n",
        "            outputs = model(X_test_scaled_tensor)\n",
        "            _, predicted_indices = torch.max(outputs, 1)\n",
        "            prediction = predicted_indices.cpu().numpy()\n",
        "            correct = y_test_tensor.cpu().numpy()\n",
        "            accuracy = accuracy_score(correct, prediction)\n",
        "\n",
        "        print(f'Iterations: {iterations}, Learning Rate: {lr}, Accuracy: {accuracy:.4f}')\n",
        "\n",
        "        if accuracy > best_accuracy:\n",
        "            best_accuracy = accuracy\n",
        "            best_params = {'iterations': iterations, 'learning rate': lr}\n",
        "\n",
        "print(f'Best Parameters: {best_params}, Best Accuracy: {best_accuracy:.2f}%')"
      ],
      "metadata": {
        "colab": {
          "base_uri": "https://localhost:8080/"
        },
        "id": "NvKheoCscS8m",
        "outputId": "803b3884-d560-4827-bcfc-39d3457b1d56"
      },
      "execution_count": 590,
      "outputs": [
        {
          "output_type": "stream",
          "name": "stdout",
          "text": [
            "Iterations: 150, Learning Rate: 0.001, Accuracy: 0.2310\n",
            "Iterations: 250, Learning Rate: 0.001, Accuracy: 0.2310\n",
            "Iterations: 500, Learning Rate: 0.001, Accuracy: 0.2310\n",
            "Iterations: 1000, Learning Rate: 0.001, Accuracy: 0.2310\n",
            "Best Parameters: {'iterations': 150, 'learning rate': 0.001}, Best Accuracy: 0.23%\n"
          ]
        }
      ]
    },
    {
      "cell_type": "code",
      "source": [
        "if y_train_tensor.dim() > 1:\n",
        "    y_train_tensor = torch.argmax(y_train_tensor, dim=1)\n",
        "\n",
        "torch.manual_seed(42)\n",
        "\n",
        "\n",
        "# Initialization parameters\n",
        "iterations_options = [150, 250, 500, 1000]\n",
        "learning_rate_options = [1.049]\n",
        "best_accuracy = 0\n",
        "best_params = {}\n",
        "\n",
        "for iterations in iterations_options:\n",
        "    for lr in learning_rate_options:\n",
        "        # Reinitialize your model and optimizer\n",
        "        model = Net(D_in, 150, D_out)\n",
        "        criterion = nn.CrossEntropyLoss()\n",
        "        optimizer = optim.SGD(model.parameters(), lr=lr)\n",
        "\n",
        "        for _ in range(iterations):\n",
        "            optimizer.zero_grad()\n",
        "            outputs = model(X_train_scaled_tensor)  # Use your entire training dataset\n",
        "            loss = criterion(outputs, y_train_tensor)\n",
        "            loss.backward()\n",
        "            optimizer.step()\n",
        "\n",
        "        # Calculate accuracy\n",
        "        with torch.no_grad():\n",
        "            outputs = model(X_test_scaled_tensor)\n",
        "            _, predicted_indices = torch.max(outputs, 1)\n",
        "            prediction = predicted_indices.cpu().numpy()\n",
        "            correct = y_test_tensor.cpu().numpy()\n",
        "            accuracy = accuracy_score(correct, prediction)\n",
        "\n",
        "        print(f'Iterations: {iterations}, Learning Rate: {lr}, Accuracy: {accuracy:.4f}')\n",
        "\n",
        "        if accuracy > best_accuracy:\n",
        "            best_accuracy = accuracy\n",
        "            best_params = {'iterations': iterations, 'learning rate': lr}\n",
        "\n",
        "print(f'Best Parameters: {best_params}, Best Accuracy: {best_accuracy:.2f}%')"
      ],
      "metadata": {
        "colab": {
          "base_uri": "https://localhost:8080/"
        },
        "id": "mhvsuFbzcMYz",
        "outputId": "cf911ddc-63bc-49e6-8c4a-4ac23f34c038"
      },
      "execution_count": 591,
      "outputs": [
        {
          "output_type": "stream",
          "name": "stdout",
          "text": [
            "Iterations: 150, Learning Rate: 1.049, Accuracy: 0.2310\n",
            "Iterations: 250, Learning Rate: 1.049, Accuracy: 0.2310\n",
            "Iterations: 500, Learning Rate: 1.049, Accuracy: 0.2310\n",
            "Iterations: 1000, Learning Rate: 1.049, Accuracy: 0.2310\n",
            "Best Parameters: {'iterations': 150, 'learning rate': 1.049}, Best Accuracy: 0.23%\n"
          ]
        }
      ]
    },
    {
      "cell_type": "code",
      "source": [
        "if y_train_tensor.dim() > 1:\n",
        "    y_train_tensor = torch.argmax(y_train_tensor, dim=1)\n",
        "\n",
        "torch.manual_seed(42)\n",
        "\n",
        "\n",
        "# Initialization parameters\n",
        "iterations_options = [150, 250, 500, 1000]\n",
        "learning_rate_options = [12.031]\n",
        "best_accuracy = 0\n",
        "best_params = {}\n",
        "\n",
        "for iterations in iterations_options:\n",
        "    for lr in learning_rate_options:\n",
        "        # Reinitialize your model and optimizer\n",
        "        model = Net(D_in, 150, D_out)\n",
        "        criterion = nn.CrossEntropyLoss()\n",
        "        optimizer = optim.SGD(model.parameters(), lr=lr)\n",
        "\n",
        "        for _ in range(iterations):\n",
        "            optimizer.zero_grad()\n",
        "            outputs = model(X_train_scaled_tensor)  # Use your entire training dataset\n",
        "            loss = criterion(outputs, y_train_tensor)\n",
        "            loss.backward()\n",
        "            optimizer.step()\n",
        "\n",
        "        # Calculate accuracy\n",
        "        with torch.no_grad():\n",
        "            outputs = model(X_test_scaled_tensor)\n",
        "            _, predicted_indices = torch.max(outputs, 1)\n",
        "            prediction = predicted_indices.cpu().numpy()\n",
        "            correct = y_test_tensor.cpu().numpy()\n",
        "            accuracy = accuracy_score(correct, prediction)\n",
        "\n",
        "        print(f'Iterations: {iterations}, Learning Rate: {lr}, Accuracy: {accuracy:.4f}')\n",
        "\n",
        "        if accuracy > best_accuracy:\n",
        "            best_accuracy = accuracy\n",
        "            best_params = {'iterations': iterations, 'learning rate': lr}\n",
        "\n",
        "print(f'Best Parameters: {best_params}, Best Accuracy: {best_accuracy:.2f}%')"
      ],
      "metadata": {
        "colab": {
          "base_uri": "https://localhost:8080/"
        },
        "id": "FZbrSZ0icZGA",
        "outputId": "dfeafee5-c51f-461f-a6b4-19302bd5ec7a"
      },
      "execution_count": 592,
      "outputs": [
        {
          "output_type": "stream",
          "name": "stdout",
          "text": [
            "Iterations: 150, Learning Rate: 12.031, Accuracy: 0.2310\n",
            "Iterations: 250, Learning Rate: 12.031, Accuracy: 0.2310\n",
            "Iterations: 500, Learning Rate: 12.031, Accuracy: 0.2310\n",
            "Iterations: 1000, Learning Rate: 12.031, Accuracy: 0.2310\n",
            "Best Parameters: {'iterations': 150, 'learning rate': 12.031}, Best Accuracy: 0.23%\n"
          ]
        }
      ]
    },
    {
      "cell_type": "code",
      "source": [
        "learning_rate_options = [0.00005, 0.001, 1.049, 12.031]\n",
        "iterations_list= 150\n",
        "best_accuracy = 0\n",
        "best_params = {}\n",
        "\n",
        "\n",
        "\n",
        "for iterations in range(iterations_list):\n",
        "    for lr in learning_rate_options:\n",
        "        # Reinitialize your model and optimizer\n",
        "        model = Net(D_in, 150, D_out)\n",
        "        criterion = nn.CrossEntropyLoss()\n",
        "        optimizer = optim.SGD(model.parameters(), lr=lr)\n",
        "\n",
        "    # Forward pass: compute prediction on training set\n",
        "    y_pred = model(X_train_scaled_tensor)\n",
        "\n",
        "    # Compute accuracy\n",
        "    with torch.no_grad():\n",
        "            outputs = model(X_test_scaled_tensor)\n",
        "            _, predicted_indices = torch.max(outputs, 1)\n",
        "            prediction = predicted_indices.cpu().numpy()\n",
        "            correct = y_test_tensor.cpu().numpy()\n",
        "            accuracy = accuracy_score(correct, prediction)\n",
        "\n",
        "    if accuracy > best_accuracy:\n",
        "            best_accuracy = accuracy\n",
        "            best_params = {'iterations': iterations, 'learning rate': lr}\n",
        "    #print(f'Iterations: {iterations}, Learning Rate: {lr}, Accuracy: {accuracy:.4f}')\n",
        "\n",
        "\n",
        "print(f'Best Parameters: {best_params}, Best Accuracy: {best_accuracy:.2f}%')\n",
        "\n"
      ],
      "metadata": {
        "colab": {
          "base_uri": "https://localhost:8080/"
        },
        "id": "2a1o3GhFZAj2",
        "outputId": "d269d3e5-713e-44ba-9369-649fc0d14e07"
      },
      "execution_count": 593,
      "outputs": [
        {
          "output_type": "stream",
          "name": "stdout",
          "text": [
            "Best Parameters: {'iterations': 140, 'learning rate': 12.031}, Best Accuracy: 0.52%\n"
          ]
        }
      ]
    },
    {
      "cell_type": "markdown",
      "source": [
        "*Question 1:*\n",
        "\n",
        "**Could we use BCELoss instead of CrossEntropyLoss?**"
      ],
      "metadata": {
        "id": "rVn0_N37Lg2c"
      }
    },
    {
      "cell_type": "markdown",
      "metadata": {
        "id": "pMa1WScWF1B8"
      },
      "source": [
        "# 3. Predict over the suspects dataset"
      ]
    },
    {
      "cell_type": "markdown",
      "source": [
        "Now it's time to use the model to make predictions over the suspect dataset!\n",
        "\n",
        "Use the following parameters:\n",
        "\n",
        "\n",
        "* `hidden layer` : 1 with 150 neurons\n",
        "* `output layer` : 3 neurons\n",
        "* `optimizer` : [Stochastic Gradient Descent (SGD)](https://en.wikipedia.org/wiki/Stochastic_gradient_descent)\n",
        "* `criterion` : [CrossEntropyLoss](https://pytorch.org/docs/stable/generated/torch.nn.CrossEntropyLoss.html)\n",
        "* `iterations` : 1000\n",
        "* `learning rate` : 1.049\n",
        "\n",
        "Set `random seed` as np.random.seed(42)\n",
        "\n"
      ],
      "metadata": {
        "id": "qxz8kefSHAqT"
      }
    },
    {
      "cell_type": "markdown",
      "source": [
        "*Question 2:*\n",
        "\n",
        "**Why does our model has 3 neurons in the output layer?**"
      ],
      "metadata": {
        "id": "O8diIPbsLrh9"
      }
    },
    {
      "cell_type": "code",
      "source": [
        "np.random.seed(42)\n",
        "\n",
        "y_tensor = y_tensor.squeeze().long()"
      ],
      "metadata": {
        "id": "Umqu-0PdA2Pn"
      },
      "execution_count": 594,
      "outputs": []
    },
    {
      "cell_type": "code",
      "source": [
        "# Define the neural network class\n",
        "class NeuralNetwork(nn.Module):\n",
        "    def __init__(self, D_in, H1, D_out):\n",
        "        super(NeuralNetwork, self).__init__()\n",
        "        self.linear1 = nn.Linear(D_in, H1)  # Linear transformation for the hidden layer\n",
        "        self.linear2 = nn.Linear(H1, D_out)  # Linear transformation for the output layer\n",
        "        self.activation = nn.ReLU()  # Activation function for the hidden layer\n",
        "\n",
        "    def forward(self, x):\n",
        "        x = self.activation(self.linear1(x))  # Hidden layer: linear transformation + ReLU\n",
        "        x = self.linear2(x)  # Output layer: linear transformation\n",
        "        return x\n",
        "\n",
        "# Parameters for the model\n",
        "D_in = 42\n",
        "H1 = 150\n",
        "D_out = 3\n",
        "\n",
        "# Instantiate the model\n",
        "model = NeuralNetwork(D_in, H1, D_out)\n",
        "\n",
        "# Define the optimizer and the loss function\n",
        "optimizer = optim.SGD(model.parameters(), lr=1.049)\n",
        "criterion = nn.CrossEntropyLoss()\n",
        "\n",
        "np.random.seed(42)\n",
        "torch.manual_seed(42)\n",
        "\n",
        "# Training loop\n",
        "for epoch in range(1000):  # 1000 iterations\n",
        "    # Zero the parameter gradients\n",
        "    optimizer.zero_grad()\n",
        "\n",
        "    # Forward pass\n",
        "    outputs = model(X_scaled_tensor)\n",
        "    loss = criterion(outputs, y_tensor)\n",
        "\n",
        "    # Backward and optimize\n",
        "    loss.backward()\n",
        "    optimizer.step()\n",
        "\n",
        "print('Finished Training')\n"
      ],
      "metadata": {
        "colab": {
          "base_uri": "https://localhost:8080/"
        },
        "id": "tQJlJnJ7s4xd",
        "outputId": "8300b41b-9d97-4f48-aa8f-f3b33f6cf1e2"
      },
      "execution_count": 595,
      "outputs": [
        {
          "output_type": "stream",
          "name": "stdout",
          "text": [
            "Finished Training\n"
          ]
        }
      ]
    },
    {
      "cell_type": "code",
      "source": [
        "# After training, set the model to evaluation mode for prediction\n",
        "model.eval()\n",
        "with torch.no_grad():\n",
        "    predictions = model(suspects2_scaled_tensor)\n",
        " #_, class_labels = torch.max(y_pred, dim=1)\n",
        "\n",
        "#class_labels\n",
        "probabilities = torch.softmax(predictions, dim=1)\n",
        "predicted_classes = torch.argmax(probabilities, dim=1)\n",
        "predicted_classes"
      ],
      "metadata": {
        "colab": {
          "base_uri": "https://localhost:8080/"
        },
        "id": "VHhRl-Ms3OeP",
        "outputId": "236117d8-500e-4824-bc1c-28b69fe1b3a3"
      },
      "execution_count": 596,
      "outputs": [
        {
          "output_type": "execute_result",
          "data": {
            "text/plain": [
              "tensor([2, 2, 2, 2, 1, 1, 2, 2, 2, 2, 2, 2, 2, 2, 2, 2, 2, 2, 2, 0, 2, 2, 2, 2,\n",
              "        2, 2, 1, 2, 2, 2, 2, 2, 2, 2, 2, 2, 2, 0, 0, 2, 2, 2, 0, 0, 0, 0, 1, 1,\n",
              "        1, 2, 2, 2, 0, 2, 2, 2, 0, 0, 0, 2, 2, 2, 2, 0, 0, 2, 2, 0, 2, 2, 2, 2,\n",
              "        2, 2, 2, 2, 2, 0, 0, 0, 2, 2, 0, 0, 2, 1, 2, 1, 2, 2, 2, 0, 0, 0, 2, 2,\n",
              "        2, 2, 2, 2, 1, 1, 1, 2, 0, 0, 0, 0, 0, 0, 0, 1, 1, 2, 0, 0, 2, 2, 0, 0,\n",
              "        0, 0, 0, 0, 0, 0, 0, 1, 0, 2, 0, 2, 2, 2, 2, 2, 0, 0, 0, 0, 0, 0, 0, 0,\n",
              "        0, 0, 0, 2, 2, 2, 2, 2, 1, 2, 2, 0, 0, 0, 0, 0, 0, 0, 0, 2, 2, 2, 2, 0,\n",
              "        0, 0, 1, 1, 1, 1, 2, 2, 2, 0, 0, 0, 1, 1, 1, 0, 0, 0, 2, 2, 1, 2, 2, 2,\n",
              "        2, 0, 0, 0, 2, 1, 1, 2, 2, 2, 2, 2, 0, 0, 0, 0, 0, 2, 2, 2, 2, 2, 2, 2,\n",
              "        2, 2, 2, 2, 2, 2, 2, 0, 0, 0, 0, 0, 0, 2, 2, 2, 2, 2, 2, 0, 0, 2, 2, 2,\n",
              "        2, 2, 2, 2, 2, 0, 0, 0, 0, 0, 0, 2, 2, 2, 2, 2, 2, 2, 2, 2, 2, 2, 2, 0,\n",
              "        0, 0, 2, 2, 2, 2, 1, 1, 1, 2, 0, 0, 0, 0, 0, 0, 1, 2, 2, 0, 0, 0, 0, 0,\n",
              "        0, 2, 2, 2, 2, 2, 2, 0, 0, 0, 2, 2, 2, 2, 2, 0, 2, 2, 2, 2, 2, 0, 0, 0,\n",
              "        0, 0, 0, 0, 0, 0, 2, 2, 2, 0, 0, 0, 2, 2, 2, 2, 2, 2, 2, 2, 0, 2, 2, 2,\n",
              "        2, 1, 2, 2, 2, 0, 0, 2, 2, 2, 2, 2, 2, 2, 0, 0, 1, 2, 0, 0, 0, 0, 2, 2,\n",
              "        2, 2, 2, 2, 2, 2, 2, 2, 2, 2, 2, 2, 2, 2, 2, 2, 2, 2, 2, 0, 0, 0, 0, 0,\n",
              "        0, 0, 2, 0, 0, 0, 1, 1, 1, 0, 0, 0, 2, 2, 2, 2, 2, 2, 2, 2, 2, 0, 0, 0,\n",
              "        0, 0, 2, 2, 2, 2, 2, 2, 2, 2, 2, 0, 0, 0, 2, 2, 2, 2, 2, 2, 0, 0, 2, 2,\n",
              "        2, 2, 1, 2, 2, 2, 2, 2, 2, 2, 2, 2, 2, 1, 0, 0, 0, 0, 0, 0, 0, 0, 1, 0,\n",
              "        0, 1, 2, 2, 2, 2, 2, 2, 2, 2, 2, 2, 1, 1, 2, 0, 0, 2, 2, 2, 2, 2, 2, 2,\n",
              "        1, 2, 2, 2, 2, 1, 2, 2, 2, 0, 0, 0, 2, 1, 2, 2, 0, 0, 0, 0, 0, 0, 0, 0,\n",
              "        2, 2, 2, 1, 1, 0, 0, 0, 0, 0, 0, 0, 0, 0, 2, 2, 2, 2, 2, 2, 0, 0, 0, 0,\n",
              "        0, 0, 0, 2, 2, 2, 1, 2, 1, 2, 2, 2, 2, 2, 2, 2, 2, 2, 2, 2, 0, 0, 0, 0,\n",
              "        0, 2, 2, 2, 2, 2, 2, 2, 2, 2, 0, 0, 0, 0, 0, 0, 0, 2, 2, 2, 2, 2, 2, 2,\n",
              "        2, 2, 2, 2, 2, 2, 1, 1, 2, 2, 2, 2, 0, 2, 0, 0, 0, 2, 2, 1, 2, 0, 2, 2,\n",
              "        2, 2, 2, 2, 2, 0, 0, 0, 2, 2, 1, 2, 1, 2, 2, 2, 2, 2, 2, 2, 2, 0, 0, 0,\n",
              "        0, 0, 2, 2, 2, 2, 1, 0, 0, 0, 0, 2, 2, 2, 2, 2, 2, 1, 1, 1, 2, 2, 2, 2,\n",
              "        2, 2, 0, 1, 2, 1, 0, 0, 0, 0, 0, 0, 0, 0, 2, 2, 2, 2, 2, 2, 2, 2, 2, 2,\n",
              "        2, 0, 2, 2, 0, 0, 0, 2, 2, 2, 2, 2, 1, 1, 2, 2, 2, 2, 1, 2, 2, 2, 0, 2,\n",
              "        2, 2, 2, 2, 2, 2, 2, 2, 0, 0, 0, 0, 0, 0, 2, 2, 0, 0])"
            ]
          },
          "metadata": {},
          "execution_count": 596
        }
      ]
    },
    {
      "cell_type": "code",
      "source": [
        "suspects2_scaled_tensor.shape"
      ],
      "metadata": {
        "colab": {
          "base_uri": "https://localhost:8080/"
        },
        "id": "6Ki6eecQMON0",
        "outputId": "230193ac-5e8a-4c51-cf0f-f1d55a7112d8"
      },
      "execution_count": 597,
      "outputs": [
        {
          "output_type": "execute_result",
          "data": {
            "text/plain": [
              "torch.Size([714, 42])"
            ]
          },
          "metadata": {},
          "execution_count": 597
        }
      ]
    },
    {
      "cell_type": "code",
      "source": [
        "suspects['Predicted_Credit_Mix'] = predicted_classes\n",
        "suspects['Predicted_Credit_Mix']"
      ],
      "metadata": {
        "colab": {
          "base_uri": "https://localhost:8080/"
        },
        "id": "hJDtk8Zo0VDf",
        "outputId": "8384ee1d-b60a-419b-8d77-38df26b4e5ea"
      },
      "execution_count": 598,
      "outputs": [
        {
          "output_type": "execute_result",
          "data": {
            "text/plain": [
              "0       2\n",
              "1       2\n",
              "3       2\n",
              "5       2\n",
              "8       1\n",
              "       ..\n",
              "1231    0\n",
              "1233    2\n",
              "1235    2\n",
              "1236    0\n",
              "1237    0\n",
              "Name: Predicted_Credit_Mix, Length: 714, dtype: int64"
            ]
          },
          "metadata": {},
          "execution_count": 598
        }
      ]
    },
    {
      "cell_type": "markdown",
      "source": [
        "Display the table with two columns: 'userID' and the corresponding predicted Credit_Mix."
      ],
      "metadata": {
        "id": "k6hdN8ZOJMgQ"
      }
    },
    {
      "cell_type": "code",
      "source": [
        "final_sus=suspects[['userID', 'Predicted_Credit_Mix']]\n",
        "final_sus"
      ],
      "metadata": {
        "id": "PeIKEtZ8JKS9",
        "colab": {
          "base_uri": "https://localhost:8080/",
          "height": 424
        },
        "outputId": "d28cf6b7-1d67-4370-d9eb-20cee40f9cb3"
      },
      "execution_count": 599,
      "outputs": [
        {
          "output_type": "execute_result",
          "data": {
            "text/plain": [
              "      userID  Predicted_Credit_Mix\n",
              "0     317991                     2\n",
              "1     241892                     2\n",
              "3     303376                     2\n",
              "5     761992                     2\n",
              "8     373318                     1\n",
              "...      ...                   ...\n",
              "1231  458293                     0\n",
              "1233  218415                     2\n",
              "1235  173906                     2\n",
              "1236  178685                     0\n",
              "1237  200865                     0\n",
              "\n",
              "[714 rows x 2 columns]"
            ],
            "text/html": [
              "\n",
              "  <div id=\"df-daad4d84-2bfa-4d81-b2ce-d82c8b247ed2\" class=\"colab-df-container\">\n",
              "    <div>\n",
              "<style scoped>\n",
              "    .dataframe tbody tr th:only-of-type {\n",
              "        vertical-align: middle;\n",
              "    }\n",
              "\n",
              "    .dataframe tbody tr th {\n",
              "        vertical-align: top;\n",
              "    }\n",
              "\n",
              "    .dataframe thead th {\n",
              "        text-align: right;\n",
              "    }\n",
              "</style>\n",
              "<table border=\"1\" class=\"dataframe\">\n",
              "  <thead>\n",
              "    <tr style=\"text-align: right;\">\n",
              "      <th></th>\n",
              "      <th>userID</th>\n",
              "      <th>Predicted_Credit_Mix</th>\n",
              "    </tr>\n",
              "  </thead>\n",
              "  <tbody>\n",
              "    <tr>\n",
              "      <th>0</th>\n",
              "      <td>317991</td>\n",
              "      <td>2</td>\n",
              "    </tr>\n",
              "    <tr>\n",
              "      <th>1</th>\n",
              "      <td>241892</td>\n",
              "      <td>2</td>\n",
              "    </tr>\n",
              "    <tr>\n",
              "      <th>3</th>\n",
              "      <td>303376</td>\n",
              "      <td>2</td>\n",
              "    </tr>\n",
              "    <tr>\n",
              "      <th>5</th>\n",
              "      <td>761992</td>\n",
              "      <td>2</td>\n",
              "    </tr>\n",
              "    <tr>\n",
              "      <th>8</th>\n",
              "      <td>373318</td>\n",
              "      <td>1</td>\n",
              "    </tr>\n",
              "    <tr>\n",
              "      <th>...</th>\n",
              "      <td>...</td>\n",
              "      <td>...</td>\n",
              "    </tr>\n",
              "    <tr>\n",
              "      <th>1231</th>\n",
              "      <td>458293</td>\n",
              "      <td>0</td>\n",
              "    </tr>\n",
              "    <tr>\n",
              "      <th>1233</th>\n",
              "      <td>218415</td>\n",
              "      <td>2</td>\n",
              "    </tr>\n",
              "    <tr>\n",
              "      <th>1235</th>\n",
              "      <td>173906</td>\n",
              "      <td>2</td>\n",
              "    </tr>\n",
              "    <tr>\n",
              "      <th>1236</th>\n",
              "      <td>178685</td>\n",
              "      <td>0</td>\n",
              "    </tr>\n",
              "    <tr>\n",
              "      <th>1237</th>\n",
              "      <td>200865</td>\n",
              "      <td>0</td>\n",
              "    </tr>\n",
              "  </tbody>\n",
              "</table>\n",
              "<p>714 rows × 2 columns</p>\n",
              "</div>\n",
              "    <div class=\"colab-df-buttons\">\n",
              "\n",
              "  <div class=\"colab-df-container\">\n",
              "    <button class=\"colab-df-convert\" onclick=\"convertToInteractive('df-daad4d84-2bfa-4d81-b2ce-d82c8b247ed2')\"\n",
              "            title=\"Convert this dataframe to an interactive table.\"\n",
              "            style=\"display:none;\">\n",
              "\n",
              "  <svg xmlns=\"http://www.w3.org/2000/svg\" height=\"24px\" viewBox=\"0 -960 960 960\">\n",
              "    <path d=\"M120-120v-720h720v720H120Zm60-500h600v-160H180v160Zm220 220h160v-160H400v160Zm0 220h160v-160H400v160ZM180-400h160v-160H180v160Zm440 0h160v-160H620v160ZM180-180h160v-160H180v160Zm440 0h160v-160H620v160Z\"/>\n",
              "  </svg>\n",
              "    </button>\n",
              "\n",
              "  <style>\n",
              "    .colab-df-container {\n",
              "      display:flex;\n",
              "      gap: 12px;\n",
              "    }\n",
              "\n",
              "    .colab-df-convert {\n",
              "      background-color: #E8F0FE;\n",
              "      border: none;\n",
              "      border-radius: 50%;\n",
              "      cursor: pointer;\n",
              "      display: none;\n",
              "      fill: #1967D2;\n",
              "      height: 32px;\n",
              "      padding: 0 0 0 0;\n",
              "      width: 32px;\n",
              "    }\n",
              "\n",
              "    .colab-df-convert:hover {\n",
              "      background-color: #E2EBFA;\n",
              "      box-shadow: 0px 1px 2px rgba(60, 64, 67, 0.3), 0px 1px 3px 1px rgba(60, 64, 67, 0.15);\n",
              "      fill: #174EA6;\n",
              "    }\n",
              "\n",
              "    .colab-df-buttons div {\n",
              "      margin-bottom: 4px;\n",
              "    }\n",
              "\n",
              "    [theme=dark] .colab-df-convert {\n",
              "      background-color: #3B4455;\n",
              "      fill: #D2E3FC;\n",
              "    }\n",
              "\n",
              "    [theme=dark] .colab-df-convert:hover {\n",
              "      background-color: #434B5C;\n",
              "      box-shadow: 0px 1px 3px 1px rgba(0, 0, 0, 0.15);\n",
              "      filter: drop-shadow(0px 1px 2px rgba(0, 0, 0, 0.3));\n",
              "      fill: #FFFFFF;\n",
              "    }\n",
              "  </style>\n",
              "\n",
              "    <script>\n",
              "      const buttonEl =\n",
              "        document.querySelector('#df-daad4d84-2bfa-4d81-b2ce-d82c8b247ed2 button.colab-df-convert');\n",
              "      buttonEl.style.display =\n",
              "        google.colab.kernel.accessAllowed ? 'block' : 'none';\n",
              "\n",
              "      async function convertToInteractive(key) {\n",
              "        const element = document.querySelector('#df-daad4d84-2bfa-4d81-b2ce-d82c8b247ed2');\n",
              "        const dataTable =\n",
              "          await google.colab.kernel.invokeFunction('convertToInteractive',\n",
              "                                                    [key], {});\n",
              "        if (!dataTable) return;\n",
              "\n",
              "        const docLinkHtml = 'Like what you see? Visit the ' +\n",
              "          '<a target=\"_blank\" href=https://colab.research.google.com/notebooks/data_table.ipynb>data table notebook</a>'\n",
              "          + ' to learn more about interactive tables.';\n",
              "        element.innerHTML = '';\n",
              "        dataTable['output_type'] = 'display_data';\n",
              "        await google.colab.output.renderOutput(dataTable, element);\n",
              "        const docLink = document.createElement('div');\n",
              "        docLink.innerHTML = docLinkHtml;\n",
              "        element.appendChild(docLink);\n",
              "      }\n",
              "    </script>\n",
              "  </div>\n",
              "\n",
              "\n",
              "<div id=\"df-612c31b9-fd5f-48c3-b752-65b137c342f9\">\n",
              "  <button class=\"colab-df-quickchart\" onclick=\"quickchart('df-612c31b9-fd5f-48c3-b752-65b137c342f9')\"\n",
              "            title=\"Suggest charts\"\n",
              "            style=\"display:none;\">\n",
              "\n",
              "<svg xmlns=\"http://www.w3.org/2000/svg\" height=\"24px\"viewBox=\"0 0 24 24\"\n",
              "     width=\"24px\">\n",
              "    <g>\n",
              "        <path d=\"M19 3H5c-1.1 0-2 .9-2 2v14c0 1.1.9 2 2 2h14c1.1 0 2-.9 2-2V5c0-1.1-.9-2-2-2zM9 17H7v-7h2v7zm4 0h-2V7h2v10zm4 0h-2v-4h2v4z\"/>\n",
              "    </g>\n",
              "</svg>\n",
              "  </button>\n",
              "\n",
              "<style>\n",
              "  .colab-df-quickchart {\n",
              "      --bg-color: #E8F0FE;\n",
              "      --fill-color: #1967D2;\n",
              "      --hover-bg-color: #E2EBFA;\n",
              "      --hover-fill-color: #174EA6;\n",
              "      --disabled-fill-color: #AAA;\n",
              "      --disabled-bg-color: #DDD;\n",
              "  }\n",
              "\n",
              "  [theme=dark] .colab-df-quickchart {\n",
              "      --bg-color: #3B4455;\n",
              "      --fill-color: #D2E3FC;\n",
              "      --hover-bg-color: #434B5C;\n",
              "      --hover-fill-color: #FFFFFF;\n",
              "      --disabled-bg-color: #3B4455;\n",
              "      --disabled-fill-color: #666;\n",
              "  }\n",
              "\n",
              "  .colab-df-quickchart {\n",
              "    background-color: var(--bg-color);\n",
              "    border: none;\n",
              "    border-radius: 50%;\n",
              "    cursor: pointer;\n",
              "    display: none;\n",
              "    fill: var(--fill-color);\n",
              "    height: 32px;\n",
              "    padding: 0;\n",
              "    width: 32px;\n",
              "  }\n",
              "\n",
              "  .colab-df-quickchart:hover {\n",
              "    background-color: var(--hover-bg-color);\n",
              "    box-shadow: 0 1px 2px rgba(60, 64, 67, 0.3), 0 1px 3px 1px rgba(60, 64, 67, 0.15);\n",
              "    fill: var(--button-hover-fill-color);\n",
              "  }\n",
              "\n",
              "  .colab-df-quickchart-complete:disabled,\n",
              "  .colab-df-quickchart-complete:disabled:hover {\n",
              "    background-color: var(--disabled-bg-color);\n",
              "    fill: var(--disabled-fill-color);\n",
              "    box-shadow: none;\n",
              "  }\n",
              "\n",
              "  .colab-df-spinner {\n",
              "    border: 2px solid var(--fill-color);\n",
              "    border-color: transparent;\n",
              "    border-bottom-color: var(--fill-color);\n",
              "    animation:\n",
              "      spin 1s steps(1) infinite;\n",
              "  }\n",
              "\n",
              "  @keyframes spin {\n",
              "    0% {\n",
              "      border-color: transparent;\n",
              "      border-bottom-color: var(--fill-color);\n",
              "      border-left-color: var(--fill-color);\n",
              "    }\n",
              "    20% {\n",
              "      border-color: transparent;\n",
              "      border-left-color: var(--fill-color);\n",
              "      border-top-color: var(--fill-color);\n",
              "    }\n",
              "    30% {\n",
              "      border-color: transparent;\n",
              "      border-left-color: var(--fill-color);\n",
              "      border-top-color: var(--fill-color);\n",
              "      border-right-color: var(--fill-color);\n",
              "    }\n",
              "    40% {\n",
              "      border-color: transparent;\n",
              "      border-right-color: var(--fill-color);\n",
              "      border-top-color: var(--fill-color);\n",
              "    }\n",
              "    60% {\n",
              "      border-color: transparent;\n",
              "      border-right-color: var(--fill-color);\n",
              "    }\n",
              "    80% {\n",
              "      border-color: transparent;\n",
              "      border-right-color: var(--fill-color);\n",
              "      border-bottom-color: var(--fill-color);\n",
              "    }\n",
              "    90% {\n",
              "      border-color: transparent;\n",
              "      border-bottom-color: var(--fill-color);\n",
              "    }\n",
              "  }\n",
              "</style>\n",
              "\n",
              "  <script>\n",
              "    async function quickchart(key) {\n",
              "      const quickchartButtonEl =\n",
              "        document.querySelector('#' + key + ' button');\n",
              "      quickchartButtonEl.disabled = true;  // To prevent multiple clicks.\n",
              "      quickchartButtonEl.classList.add('colab-df-spinner');\n",
              "      try {\n",
              "        const charts = await google.colab.kernel.invokeFunction(\n",
              "            'suggestCharts', [key], {});\n",
              "      } catch (error) {\n",
              "        console.error('Error during call to suggestCharts:', error);\n",
              "      }\n",
              "      quickchartButtonEl.classList.remove('colab-df-spinner');\n",
              "      quickchartButtonEl.classList.add('colab-df-quickchart-complete');\n",
              "    }\n",
              "    (() => {\n",
              "      let quickchartButtonEl =\n",
              "        document.querySelector('#df-612c31b9-fd5f-48c3-b752-65b137c342f9 button');\n",
              "      quickchartButtonEl.style.display =\n",
              "        google.colab.kernel.accessAllowed ? 'block' : 'none';\n",
              "    })();\n",
              "  </script>\n",
              "</div>\n",
              "    </div>\n",
              "  </div>\n"
            ],
            "application/vnd.google.colaboratory.intrinsic+json": {
              "type": "dataframe",
              "variable_name": "final_sus",
              "summary": "{\n  \"name\": \"final_sus\",\n  \"rows\": 714,\n  \"fields\": [\n    {\n      \"column\": \"userID\",\n      \"properties\": {\n        \"dtype\": \"number\",\n        \"std\": 253152,\n        \"min\": 96249,\n        \"max\": 957997,\n        \"num_unique_values\": 713,\n        \"samples\": [\n          133154,\n          201125,\n          327507\n        ],\n        \"semantic_type\": \"\",\n        \"description\": \"\"\n      }\n    },\n    {\n      \"column\": \"Predicted_Credit_Mix\",\n      \"properties\": {\n        \"dtype\": \"number\",\n        \"std\": 0,\n        \"min\": 0,\n        \"max\": 2,\n        \"num_unique_values\": 3,\n        \"samples\": [\n          2,\n          1,\n          0\n        ],\n        \"semantic_type\": \"\",\n        \"description\": \"\"\n      }\n    }\n  ]\n}"
            }
          },
          "metadata": {},
          "execution_count": 599
        }
      ]
    },
    {
      "cell_type": "code",
      "source": [
        "value_counts_percent = y['Credit_Mix'].value_counts(normalize=True) * 100\n",
        "\n",
        "# Print the percentages\n",
        "print('Training dataset:', value_counts_percent)\n",
        "\n",
        "value_counts_percent2 = final_sus['Predicted_Credit_Mix'].value_counts(normalize=True) * 100\n",
        "\n",
        "# Print the percentages\n",
        "print('Predicted_Credit_Mix:', value_counts_percent2)"
      ],
      "metadata": {
        "colab": {
          "base_uri": "https://localhost:8080/"
        },
        "id": "4xtBL0fhvDP2",
        "outputId": "fd69ba08-659e-4ef6-aec9-8b8c9177e10b"
      },
      "execution_count": 600,
      "outputs": [
        {
          "output_type": "stream",
          "name": "stdout",
          "text": [
            "Training dataset: Credit_Mix\n",
            "2    45.926154\n",
            "1    30.671047\n",
            "0    23.402799\n",
            "Name: proportion, dtype: float64\n",
            "Predicted_Credit_Mix: Predicted_Credit_Mix\n",
            "2    57.142857\n",
            "0    34.313725\n",
            "1     8.543417\n",
            "Name: proportion, dtype: float64\n"
          ]
        }
      ]
    },
    {
      "cell_type": "markdown",
      "source": [
        "As mentioned in the beginning, we have reasons to believe that the suspect had a very good credit score. But we must make no errors, because a lot is at stake. We must be consident in our predictions.\n",
        "\n",
        "Therefore, we need to analyze not just the predicted category but also how certain the model is about each prediction. Display the probabilities of observations in the 'suspects' dataset falling within the given classes.\n",
        "\n",
        "_Hint: you can display the probabilities simply as a dataframe, but for better overview you can use visualization tools_"
      ],
      "metadata": {
        "id": "x4oGVP1hJaCZ"
      }
    },
    {
      "cell_type": "code",
      "source": [
        "# Your code here\n",
        "final_sus_filtered = final_sus[final_sus['Predicted_Credit_Mix'] == 2]\n",
        "final_sus_filtered"
      ],
      "metadata": {
        "id": "fSL2d1K-KeKW",
        "colab": {
          "base_uri": "https://localhost:8080/",
          "height": 424
        },
        "outputId": "4e8c2981-6dc0-4a90-b6b2-cc84555177a5"
      },
      "execution_count": 601,
      "outputs": [
        {
          "output_type": "execute_result",
          "data": {
            "text/plain": [
              "      userID  Predicted_Credit_Mix\n",
              "0     317991                     2\n",
              "1     241892                     2\n",
              "3     303376                     2\n",
              "5     761992                     2\n",
              "10    676003                     2\n",
              "...      ...                   ...\n",
              "1217  866017                     2\n",
              "1218  887305                     2\n",
              "1219  459020                     2\n",
              "1233  218415                     2\n",
              "1235  173906                     2\n",
              "\n",
              "[408 rows x 2 columns]"
            ],
            "text/html": [
              "\n",
              "  <div id=\"df-f1b156af-d9e9-4cf1-ba26-17f2f6ce73b6\" class=\"colab-df-container\">\n",
              "    <div>\n",
              "<style scoped>\n",
              "    .dataframe tbody tr th:only-of-type {\n",
              "        vertical-align: middle;\n",
              "    }\n",
              "\n",
              "    .dataframe tbody tr th {\n",
              "        vertical-align: top;\n",
              "    }\n",
              "\n",
              "    .dataframe thead th {\n",
              "        text-align: right;\n",
              "    }\n",
              "</style>\n",
              "<table border=\"1\" class=\"dataframe\">\n",
              "  <thead>\n",
              "    <tr style=\"text-align: right;\">\n",
              "      <th></th>\n",
              "      <th>userID</th>\n",
              "      <th>Predicted_Credit_Mix</th>\n",
              "    </tr>\n",
              "  </thead>\n",
              "  <tbody>\n",
              "    <tr>\n",
              "      <th>0</th>\n",
              "      <td>317991</td>\n",
              "      <td>2</td>\n",
              "    </tr>\n",
              "    <tr>\n",
              "      <th>1</th>\n",
              "      <td>241892</td>\n",
              "      <td>2</td>\n",
              "    </tr>\n",
              "    <tr>\n",
              "      <th>3</th>\n",
              "      <td>303376</td>\n",
              "      <td>2</td>\n",
              "    </tr>\n",
              "    <tr>\n",
              "      <th>5</th>\n",
              "      <td>761992</td>\n",
              "      <td>2</td>\n",
              "    </tr>\n",
              "    <tr>\n",
              "      <th>10</th>\n",
              "      <td>676003</td>\n",
              "      <td>2</td>\n",
              "    </tr>\n",
              "    <tr>\n",
              "      <th>...</th>\n",
              "      <td>...</td>\n",
              "      <td>...</td>\n",
              "    </tr>\n",
              "    <tr>\n",
              "      <th>1217</th>\n",
              "      <td>866017</td>\n",
              "      <td>2</td>\n",
              "    </tr>\n",
              "    <tr>\n",
              "      <th>1218</th>\n",
              "      <td>887305</td>\n",
              "      <td>2</td>\n",
              "    </tr>\n",
              "    <tr>\n",
              "      <th>1219</th>\n",
              "      <td>459020</td>\n",
              "      <td>2</td>\n",
              "    </tr>\n",
              "    <tr>\n",
              "      <th>1233</th>\n",
              "      <td>218415</td>\n",
              "      <td>2</td>\n",
              "    </tr>\n",
              "    <tr>\n",
              "      <th>1235</th>\n",
              "      <td>173906</td>\n",
              "      <td>2</td>\n",
              "    </tr>\n",
              "  </tbody>\n",
              "</table>\n",
              "<p>408 rows × 2 columns</p>\n",
              "</div>\n",
              "    <div class=\"colab-df-buttons\">\n",
              "\n",
              "  <div class=\"colab-df-container\">\n",
              "    <button class=\"colab-df-convert\" onclick=\"convertToInteractive('df-f1b156af-d9e9-4cf1-ba26-17f2f6ce73b6')\"\n",
              "            title=\"Convert this dataframe to an interactive table.\"\n",
              "            style=\"display:none;\">\n",
              "\n",
              "  <svg xmlns=\"http://www.w3.org/2000/svg\" height=\"24px\" viewBox=\"0 -960 960 960\">\n",
              "    <path d=\"M120-120v-720h720v720H120Zm60-500h600v-160H180v160Zm220 220h160v-160H400v160Zm0 220h160v-160H400v160ZM180-400h160v-160H180v160Zm440 0h160v-160H620v160ZM180-180h160v-160H180v160Zm440 0h160v-160H620v160Z\"/>\n",
              "  </svg>\n",
              "    </button>\n",
              "\n",
              "  <style>\n",
              "    .colab-df-container {\n",
              "      display:flex;\n",
              "      gap: 12px;\n",
              "    }\n",
              "\n",
              "    .colab-df-convert {\n",
              "      background-color: #E8F0FE;\n",
              "      border: none;\n",
              "      border-radius: 50%;\n",
              "      cursor: pointer;\n",
              "      display: none;\n",
              "      fill: #1967D2;\n",
              "      height: 32px;\n",
              "      padding: 0 0 0 0;\n",
              "      width: 32px;\n",
              "    }\n",
              "\n",
              "    .colab-df-convert:hover {\n",
              "      background-color: #E2EBFA;\n",
              "      box-shadow: 0px 1px 2px rgba(60, 64, 67, 0.3), 0px 1px 3px 1px rgba(60, 64, 67, 0.15);\n",
              "      fill: #174EA6;\n",
              "    }\n",
              "\n",
              "    .colab-df-buttons div {\n",
              "      margin-bottom: 4px;\n",
              "    }\n",
              "\n",
              "    [theme=dark] .colab-df-convert {\n",
              "      background-color: #3B4455;\n",
              "      fill: #D2E3FC;\n",
              "    }\n",
              "\n",
              "    [theme=dark] .colab-df-convert:hover {\n",
              "      background-color: #434B5C;\n",
              "      box-shadow: 0px 1px 3px 1px rgba(0, 0, 0, 0.15);\n",
              "      filter: drop-shadow(0px 1px 2px rgba(0, 0, 0, 0.3));\n",
              "      fill: #FFFFFF;\n",
              "    }\n",
              "  </style>\n",
              "\n",
              "    <script>\n",
              "      const buttonEl =\n",
              "        document.querySelector('#df-f1b156af-d9e9-4cf1-ba26-17f2f6ce73b6 button.colab-df-convert');\n",
              "      buttonEl.style.display =\n",
              "        google.colab.kernel.accessAllowed ? 'block' : 'none';\n",
              "\n",
              "      async function convertToInteractive(key) {\n",
              "        const element = document.querySelector('#df-f1b156af-d9e9-4cf1-ba26-17f2f6ce73b6');\n",
              "        const dataTable =\n",
              "          await google.colab.kernel.invokeFunction('convertToInteractive',\n",
              "                                                    [key], {});\n",
              "        if (!dataTable) return;\n",
              "\n",
              "        const docLinkHtml = 'Like what you see? Visit the ' +\n",
              "          '<a target=\"_blank\" href=https://colab.research.google.com/notebooks/data_table.ipynb>data table notebook</a>'\n",
              "          + ' to learn more about interactive tables.';\n",
              "        element.innerHTML = '';\n",
              "        dataTable['output_type'] = 'display_data';\n",
              "        await google.colab.output.renderOutput(dataTable, element);\n",
              "        const docLink = document.createElement('div');\n",
              "        docLink.innerHTML = docLinkHtml;\n",
              "        element.appendChild(docLink);\n",
              "      }\n",
              "    </script>\n",
              "  </div>\n",
              "\n",
              "\n",
              "<div id=\"df-98c4c650-303f-478b-90e0-d243e1897d9f\">\n",
              "  <button class=\"colab-df-quickchart\" onclick=\"quickchart('df-98c4c650-303f-478b-90e0-d243e1897d9f')\"\n",
              "            title=\"Suggest charts\"\n",
              "            style=\"display:none;\">\n",
              "\n",
              "<svg xmlns=\"http://www.w3.org/2000/svg\" height=\"24px\"viewBox=\"0 0 24 24\"\n",
              "     width=\"24px\">\n",
              "    <g>\n",
              "        <path d=\"M19 3H5c-1.1 0-2 .9-2 2v14c0 1.1.9 2 2 2h14c1.1 0 2-.9 2-2V5c0-1.1-.9-2-2-2zM9 17H7v-7h2v7zm4 0h-2V7h2v10zm4 0h-2v-4h2v4z\"/>\n",
              "    </g>\n",
              "</svg>\n",
              "  </button>\n",
              "\n",
              "<style>\n",
              "  .colab-df-quickchart {\n",
              "      --bg-color: #E8F0FE;\n",
              "      --fill-color: #1967D2;\n",
              "      --hover-bg-color: #E2EBFA;\n",
              "      --hover-fill-color: #174EA6;\n",
              "      --disabled-fill-color: #AAA;\n",
              "      --disabled-bg-color: #DDD;\n",
              "  }\n",
              "\n",
              "  [theme=dark] .colab-df-quickchart {\n",
              "      --bg-color: #3B4455;\n",
              "      --fill-color: #D2E3FC;\n",
              "      --hover-bg-color: #434B5C;\n",
              "      --hover-fill-color: #FFFFFF;\n",
              "      --disabled-bg-color: #3B4455;\n",
              "      --disabled-fill-color: #666;\n",
              "  }\n",
              "\n",
              "  .colab-df-quickchart {\n",
              "    background-color: var(--bg-color);\n",
              "    border: none;\n",
              "    border-radius: 50%;\n",
              "    cursor: pointer;\n",
              "    display: none;\n",
              "    fill: var(--fill-color);\n",
              "    height: 32px;\n",
              "    padding: 0;\n",
              "    width: 32px;\n",
              "  }\n",
              "\n",
              "  .colab-df-quickchart:hover {\n",
              "    background-color: var(--hover-bg-color);\n",
              "    box-shadow: 0 1px 2px rgba(60, 64, 67, 0.3), 0 1px 3px 1px rgba(60, 64, 67, 0.15);\n",
              "    fill: var(--button-hover-fill-color);\n",
              "  }\n",
              "\n",
              "  .colab-df-quickchart-complete:disabled,\n",
              "  .colab-df-quickchart-complete:disabled:hover {\n",
              "    background-color: var(--disabled-bg-color);\n",
              "    fill: var(--disabled-fill-color);\n",
              "    box-shadow: none;\n",
              "  }\n",
              "\n",
              "  .colab-df-spinner {\n",
              "    border: 2px solid var(--fill-color);\n",
              "    border-color: transparent;\n",
              "    border-bottom-color: var(--fill-color);\n",
              "    animation:\n",
              "      spin 1s steps(1) infinite;\n",
              "  }\n",
              "\n",
              "  @keyframes spin {\n",
              "    0% {\n",
              "      border-color: transparent;\n",
              "      border-bottom-color: var(--fill-color);\n",
              "      border-left-color: var(--fill-color);\n",
              "    }\n",
              "    20% {\n",
              "      border-color: transparent;\n",
              "      border-left-color: var(--fill-color);\n",
              "      border-top-color: var(--fill-color);\n",
              "    }\n",
              "    30% {\n",
              "      border-color: transparent;\n",
              "      border-left-color: var(--fill-color);\n",
              "      border-top-color: var(--fill-color);\n",
              "      border-right-color: var(--fill-color);\n",
              "    }\n",
              "    40% {\n",
              "      border-color: transparent;\n",
              "      border-right-color: var(--fill-color);\n",
              "      border-top-color: var(--fill-color);\n",
              "    }\n",
              "    60% {\n",
              "      border-color: transparent;\n",
              "      border-right-color: var(--fill-color);\n",
              "    }\n",
              "    80% {\n",
              "      border-color: transparent;\n",
              "      border-right-color: var(--fill-color);\n",
              "      border-bottom-color: var(--fill-color);\n",
              "    }\n",
              "    90% {\n",
              "      border-color: transparent;\n",
              "      border-bottom-color: var(--fill-color);\n",
              "    }\n",
              "  }\n",
              "</style>\n",
              "\n",
              "  <script>\n",
              "    async function quickchart(key) {\n",
              "      const quickchartButtonEl =\n",
              "        document.querySelector('#' + key + ' button');\n",
              "      quickchartButtonEl.disabled = true;  // To prevent multiple clicks.\n",
              "      quickchartButtonEl.classList.add('colab-df-spinner');\n",
              "      try {\n",
              "        const charts = await google.colab.kernel.invokeFunction(\n",
              "            'suggestCharts', [key], {});\n",
              "      } catch (error) {\n",
              "        console.error('Error during call to suggestCharts:', error);\n",
              "      }\n",
              "      quickchartButtonEl.classList.remove('colab-df-spinner');\n",
              "      quickchartButtonEl.classList.add('colab-df-quickchart-complete');\n",
              "    }\n",
              "    (() => {\n",
              "      let quickchartButtonEl =\n",
              "        document.querySelector('#df-98c4c650-303f-478b-90e0-d243e1897d9f button');\n",
              "      quickchartButtonEl.style.display =\n",
              "        google.colab.kernel.accessAllowed ? 'block' : 'none';\n",
              "    })();\n",
              "  </script>\n",
              "</div>\n",
              "    </div>\n",
              "  </div>\n"
            ],
            "application/vnd.google.colaboratory.intrinsic+json": {
              "type": "dataframe",
              "variable_name": "final_sus_filtered",
              "summary": "{\n  \"name\": \"final_sus_filtered\",\n  \"rows\": 408,\n  \"fields\": [\n    {\n      \"column\": \"userID\",\n      \"properties\": {\n        \"dtype\": \"number\",\n        \"std\": 253303,\n        \"min\": 96249,\n        \"max\": 957079,\n        \"num_unique_values\": 407,\n        \"samples\": [\n          273453,\n          437181,\n          242361\n        ],\n        \"semantic_type\": \"\",\n        \"description\": \"\"\n      }\n    },\n    {\n      \"column\": \"Predicted_Credit_Mix\",\n      \"properties\": {\n        \"dtype\": \"number\",\n        \"std\": 0,\n        \"min\": 2,\n        \"max\": 2,\n        \"num_unique_values\": 1,\n        \"samples\": [\n          2\n        ],\n        \"semantic_type\": \"\",\n        \"description\": \"\"\n      }\n    }\n  ]\n}"
            }
          },
          "metadata": {},
          "execution_count": 601
        }
      ]
    },
    {
      "cell_type": "markdown",
      "source": [
        "*Question 3:*\n",
        "\n",
        "**Which of the following suspects have a good credit mix according to your model's predictions?**\n",
        "\n",
        "\n",
        "*   200865\n",
        "*   761992\n",
        "*   858566\n",
        "*   862880\n",
        "*   526987\n"
      ],
      "metadata": {
        "id": "OK0J3mmALxUo"
      }
    },
    {
      "cell_type": "code",
      "source": [
        "final_sus_filtered['userID'].isin([200865]).any()"
      ],
      "metadata": {
        "colab": {
          "base_uri": "https://localhost:8080/"
        },
        "id": "Ql4nhEkT67F8",
        "outputId": "45fbe76d-e5fc-4ccc-c928-28a111452c43"
      },
      "execution_count": 602,
      "outputs": [
        {
          "output_type": "execute_result",
          "data": {
            "text/plain": [
              "False"
            ]
          },
          "metadata": {},
          "execution_count": 602
        }
      ]
    },
    {
      "cell_type": "code",
      "source": [
        "final_sus_filtered['userID'].isin([761992]).any()"
      ],
      "metadata": {
        "colab": {
          "base_uri": "https://localhost:8080/"
        },
        "id": "3lhC_IYu77m5",
        "outputId": "b069e026-6575-446a-eeb8-47f866c4e9f2"
      },
      "execution_count": 603,
      "outputs": [
        {
          "output_type": "execute_result",
          "data": {
            "text/plain": [
              "True"
            ]
          },
          "metadata": {},
          "execution_count": 603
        }
      ]
    },
    {
      "cell_type": "code",
      "source": [
        "final_sus_filtered['userID'].isin([858566]).any()"
      ],
      "metadata": {
        "colab": {
          "base_uri": "https://localhost:8080/"
        },
        "id": "M-IzbkPP77xU",
        "outputId": "c00545c0-eadb-4b92-d39c-5b5b10f97112"
      },
      "execution_count": 604,
      "outputs": [
        {
          "output_type": "execute_result",
          "data": {
            "text/plain": [
              "False"
            ]
          },
          "metadata": {},
          "execution_count": 604
        }
      ]
    },
    {
      "cell_type": "code",
      "source": [
        "final_sus_filtered['userID'].isin([862880]).any()"
      ],
      "metadata": {
        "colab": {
          "base_uri": "https://localhost:8080/"
        },
        "id": "SX6jdq-67739",
        "outputId": "fd096188-7d48-469b-bee9-9fca9ba12162"
      },
      "execution_count": 605,
      "outputs": [
        {
          "output_type": "execute_result",
          "data": {
            "text/plain": [
              "False"
            ]
          },
          "metadata": {},
          "execution_count": 605
        }
      ]
    },
    {
      "cell_type": "code",
      "source": [
        "final_sus_filtered['userID'].isin([526987]).any()"
      ],
      "metadata": {
        "colab": {
          "base_uri": "https://localhost:8080/"
        },
        "id": "9JPp1qAd78Oa",
        "outputId": "570c60fe-12b8-47ed-9999-d482a6d1305b"
      },
      "execution_count": 606,
      "outputs": [
        {
          "output_type": "execute_result",
          "data": {
            "text/plain": [
              "True"
            ]
          },
          "metadata": {},
          "execution_count": 606
        }
      ]
    }
  ],
  "metadata": {
    "colab": {
      "provenance": [],
      "toc_visible": true
    },
    "kernelspec": {
      "display_name": "Python 3",
      "language": "python",
      "name": "python3"
    },
    "language_info": {
      "codemirror_mode": {
        "name": "ipython",
        "version": 3
      },
      "file_extension": ".py",
      "mimetype": "text/x-python",
      "name": "python",
      "nbconvert_exporter": "python",
      "pygments_lexer": "ipython3",
      "version": "3.9.6"
    }
  },
  "nbformat": 4,
  "nbformat_minor": 0
}