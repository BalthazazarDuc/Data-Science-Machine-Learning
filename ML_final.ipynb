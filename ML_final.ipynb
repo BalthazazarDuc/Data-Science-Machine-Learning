{
  "nbformat": 4,
  "nbformat_minor": 0,
  "metadata": {
    "colab": {
      "provenance": []
    },
    "kernelspec": {
      "name": "python3",
      "display_name": "Python 3"
    },
    "language_info": {
      "name": "python"
    }
  },
  "cells": [
    {
      "cell_type": "markdown",
      "source": [
        "Import"
      ],
      "metadata": {
        "id": "J5IK7oPEO3H7"
      }
    },
    {
      "cell_type": "code",
      "execution_count": 1,
      "metadata": {
        "id": "J7qsLwFWO1DZ"
      },
      "outputs": [],
      "source": [
        "import pandas as pd\n",
        "import numpy as np"
      ]
    },
    {
      "cell_type": "code",
      "source": [
        "train=pd.read_csv('https://raw.githubusercontent.com/BalthazazarDuc/Data-Science-Machine-Learning/main/predicting-the-difficulty-of-a-french-text-e4s/training_data.csv?token=GHSAT0AAAAAACOZ4C73AXTXJJ76TXOZ64KEZQWS3HA')\n",
        "test=pd.read_csv('https://raw.githubusercontent.com/BalthazazarDuc/Data-Science-Machine-Learning/main/predicting-the-difficulty-of-a-french-text-e4s/unlabelled_test_data.csv?token=GHSAT0AAAAAACOZ4C73C5SVQPCLDT5ORFGIZQWS45A')"
      ],
      "metadata": {
        "id": "cXeTwQcdO8wf"
      },
      "execution_count": 4,
      "outputs": []
    }
  ]
}